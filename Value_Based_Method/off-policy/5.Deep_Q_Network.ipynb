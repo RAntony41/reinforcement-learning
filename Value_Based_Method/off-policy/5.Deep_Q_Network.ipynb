{
 "cells": [
  {
   "cell_type": "code",
   "execution_count": 1,
   "metadata": {},
   "outputs": [],
   "source": [
    "import numpy as np\n",
    "import pandas as pd\n",
    "import matplotlib.pyplot as plt\n",
    "import seaborn as sns\n",
    "import torch\n",
    "import torch.nn as nn\n",
    "import torch.optim as optim"
   ]
  },
  {
   "cell_type": "markdown",
   "metadata": {},
   "source": [
    "# Initialize table"
   ]
  },
  {
   "cell_type": "code",
   "execution_count": 2,
   "metadata": {},
   "outputs": [],
   "source": [
    "learning_rate = 0.001\n",
    "discount_factor = 0.95\n",
    "epsilon_start = 1.0\n",
    "epsilon_end = 0.01\n",
    "epsilon_decay = 0.001\n",
    "num_episodes = 1000\n",
    "max_steps_per_episode = 100\n",
    "batch_size = 64\n",
    "memory_size = 10000"
   ]
  },
  {
   "cell_type": "code",
   "execution_count": 3,
   "metadata": {},
   "outputs": [
    {
     "data": {
      "image/png": "[encoded data removed]",
      "text/plain": [
       "<Figure size 500x300 with 1 Axes>"
      ]
     },
     "metadata": {},
     "output_type": "display_data"
    }
   ],
   "source": [
    "# Define Grid World environment\n",
    "grid_size = (5,3)\n",
    "initial_state = (2,0)\n",
    "\n",
    "# event \n",
    "goal_state = (2, 4)\n",
    "obstacle_states = [(1, 2), (2, 2)]\n",
    "'''\n",
    "# event 2\n",
    "obstacle_states = [(1, 1), (2, 1),\n",
    "                   (0, 3), (1, 3)]\n",
    "goal_state = (0, 4)\n",
    "'''\n",
    "\n",
    "# Visualize Grid World environment\n",
    "plt.figure(figsize=(grid_size[0], grid_size[1]))\n",
    "plt.imshow(np.zeros((grid_size[1], grid_size[0])), cmap='gray', alpha=0)  # Background\n",
    "plt.xticks(np.arange(grid_size[0]))\n",
    "plt.yticks(np.arange(grid_size[1]))\n",
    "plt.grid(True, linewidth=1, color='black')\n",
    "\n",
    "\n",
    "plt.plot(initial_state[1], initial_state[0], 'bo', markersize=15)\n",
    "# Visualize goal state\n",
    "plt.plot(goal_state[1], goal_state[0], 'go', markersize=15)\n",
    "\n",
    "# Visualize obstacle states\n",
    "for obstacle in obstacle_states:\n",
    "    plt.plot(obstacle[1], obstacle[0], 'rs', markersize=15)\n",
    "\n",
    "plt.title(\"Grid World Environment\")\n",
    "plt.show()"
   ]
  },
  {
   "cell_type": "markdown",
   "metadata": {},
   "source": [
    "# Main Function (DQN network)"
   ]
  },
  {
   "cell_type": "code",
   "execution_count": 4,
   "metadata": {},
   "outputs": [],
   "source": [
    "# Define DQN network\n",
    "class DQN(nn.Module):\n",
    "    def __init__(self, input_dim, output_dim):\n",
    "        super(DQN, self).__init__()\n",
    "        self.fc1 = nn.Linear(input_dim, 128)\n",
    "        self.relu = nn.ReLU()\n",
    "        self.fc2 = nn.Linear(128, 128)\n",
    "        self.fc3 = nn.Linear(128, output_dim)\n",
    "\n",
    "    def forward(self, x):\n",
    "        x = self.relu(self.fc1(x))\n",
    "        x = self.relu(self.fc2(x))\n",
    "        return self.fc3(x)"
   ]
  },
  {
   "cell_type": "code",
   "execution_count": 5,
   "metadata": {},
   "outputs": [],
   "source": [
    "input_dim = 2\n",
    "output_dim = 4\n",
    "dqn = DQN(input_dim, output_dim)\n",
    "optimizer = optim.Adam(dqn.parameters(), lr=learning_rate)\n",
    "criterion = nn.MSELoss()"
   ]
  },
  {
   "cell_type": "code",
   "execution_count": 6,
   "metadata": {},
   "outputs": [],
   "source": [
    "# Function to choose action (epsilon-greedy policy)\n",
    "def choose_action(state, epsilon):\n",
    "    if np.random.rand() < epsilon:\n",
    "        return np.random.randint(output_dim)\n",
    "    else:\n",
    "        state_tensor = torch.FloatTensor(state).unsqueeze(0)\n",
    "        q_values = dqn(state_tensor)\n",
    "        return torch.argmax(q_values).item()\n",
    "\n",
    "# Function to perform a step in the environment\n",
    "def step(state, action):\n",
    "    row, col = state\n",
    "    if action == 0:\n",
    "        row = max(0, row - 1)\n",
    "    elif action == 1:\n",
    "        row = min(grid_size[1] - 1, row + 1)\n",
    "    elif action == 2:\n",
    "        col = max(0, col - 1)\n",
    "    elif action == 3:\n",
    "        col = min(grid_size[0] - 1, col + 1)\n",
    "\n",
    "    next_state = (row, col)\n",
    "\n",
    "    if next_state == goal_state:\n",
    "        reward = 1\n",
    "        done = True\n",
    "    elif next_state in obstacle_states:\n",
    "        reward = -1\n",
    "        done = True\n",
    "    else:\n",
    "        reward = 0\n",
    "        done = False\n",
    "\n",
    "    return next_state, reward, done"
   ]
  },
  {
   "cell_type": "markdown",
   "metadata": {},
   "source": [
    "# Training"
   ]
  },
  {
   "cell_type": "code",
   "execution_count": 7,
   "metadata": {},
   "outputs": [],
   "source": [
    "learning_rate = 0.001\n",
    "discount_factor = 0.95\n",
    "epsilon_start = 1.0\n",
    "epsilon_end = 0.01\n",
    "epsilon_decay = 0.001\n",
    "num_episodes = 1000\n",
    "max_steps_per_episode = 100\n",
    "batch_size = 64\n",
    "memory_size = 10000"
   ]
  },
  {
   "cell_type": "code",
   "execution_count": 8,
   "metadata": {},
   "outputs": [],
   "source": [
    "input_dim = 2\n",
    "output_dim = 4\n",
    "dqn = DQN(input_dim, output_dim)\n",
    "optimizer = optim.Adam(dqn.parameters(), lr=learning_rate)\n",
    "criterion = nn.MSELoss()"
   ]
  },
  {
   "cell_type": "code",
   "execution_count": 9,
   "metadata": {},
   "outputs": [],
   "source": [
    "# DQN training\n",
    "episode_rewards = []\n",
    "memory = []\n",
    "\n",
    "for episode in range(num_episodes):\n",
    "    state = (0, 0)\n",
    "    done = False\n",
    "    step_count = 0\n",
    "    total_reward = 0\n",
    "    epsilon = epsilon_end + (epsilon_start - epsilon_end) * np.exp(-epsilon_decay * episode)\n",
    "\n",
    "    while not done and step_count < max_steps_per_episode:\n",
    "        action = choose_action(state, epsilon)\n",
    "        next_state, reward, done = step(state, action)\n",
    "\n",
    "        memory.append((state, action, reward, next_state, done))\n",
    "        if len(memory) > memory_size:\n",
    "            memory.pop(0)\n",
    "\n",
    "        if len(memory) >= batch_size:\n",
    "            batch = np.random.choice(len(memory), batch_size, replace=False)\n",
    "            batch_memory = [memory[i] for i in batch]\n",
    "\n",
    "            states, actions, rewards, next_states, dones = zip(*batch_memory)\n",
    "\n",
    "            states_tensor = torch.FloatTensor(states)\n",
    "            actions_tensor = torch.LongTensor(actions).unsqueeze(1)\n",
    "            rewards_tensor = torch.FloatTensor(rewards).unsqueeze(1)\n",
    "            next_states_tensor = torch.FloatTensor(next_states)\n",
    "            dones_tensor = torch.FloatTensor(dones).unsqueeze(1)\n",
    "\n",
    "            q_values = dqn(states_tensor).gather(1, actions_tensor)\n",
    "            next_q_values = dqn(next_states_tensor).max(1)[0].unsqueeze(1)\n",
    "            target_q_values = rewards_tensor + discount_factor * next_q_values * (1 - dones_tensor)\n",
    "\n",
    "            loss = criterion(q_values, target_q_values)\n",
    "\n",
    "            optimizer.zero_grad()\n",
    "            loss.backward()\n",
    "            optimizer.step()\n",
    "\n",
    "        state = next_state\n",
    "        total_reward += reward\n",
    "        step_count += 1\n",
    "\n",
    "    episode_rewards.append(total_reward)\n",
    "\n",
    "# Calculate average reward\n",
    "average_rewards = np.cumsum(episode_rewards) / (np.arange(len(episode_rewards)) + 1)"
   ]
  },
  {
   "cell_type": "markdown",
   "metadata": {},
   "source": [
    "# Visualization"
   ]
  },
  {
   "cell_type": "code",
   "execution_count": 10,
   "metadata": {},
   "outputs": [
    {
     "data": {
      "image/png": "[encoded data removed]",
      "text/plain": [
       "<Figure size 640x480 with 1 Axes>"
      ]
     },
     "metadata": {},
     "output_type": "display_data"
    }
   ],
   "source": [
    "plt.plot(average_rewards)\n",
    "plt.xlabel(\"Episode\")\n",
    "plt.ylabel(\"Average Total Reward\")\n",
    "plt.title(\"Average Total Reward per Episode (DQN network)\")\n",
    "plt.show()"
   ]
  },
  {
   "cell_type": "code",
   "execution_count": 11,
   "metadata": {},
   "outputs": [
    {
     "name": "stdout",
     "output_type": "stream",
     "text": [
      "Path: [(2, 0), (1, 0), (1, 1), (0, 1), (0, 2), (0, 3), (0, 4), (1, 4), (2, 4)]\n"
     ]
    },
    {
     "data": {
      "image/png": "[encoded data removed]",
      "text/plain": [
       "<Figure size 500x300 with 1 Axes>"
      ]
     },
     "metadata": {},
     "output_type": "display_data"
    }
   ],
   "source": [
    "# Test learned agent\n",
    "state = initial_state\n",
    "done = False\n",
    "path = [state]\n",
    "step_count = 0\n",
    "\n",
    "while not done and step_count < max_steps_per_episode:\n",
    "    state_tensor = torch.FloatTensor(state).unsqueeze(0)\n",
    "    q_values = dqn(state_tensor)  # Use DQN network to get Q-values\n",
    "    action = torch.argmax(q_values).item()\n",
    "    next_state, reward, done = step(state, action)\n",
    "    path.append(next_state)\n",
    "    state = next_state\n",
    "    step_count += 1\n",
    "\n",
    "print(\"Path:\", path)\n",
    "\n",
    "# Visualize agent path\n",
    "plt.figure(figsize=(grid_size[0], grid_size[1]))\n",
    "plt.imshow(np.zeros((grid_size[1], grid_size[0])), cmap='gray', alpha=0)\n",
    "plt.xticks(np.arange(grid_size[0]))\n",
    "plt.yticks(np.arange(grid_size[1]))\n",
    "plt.grid(True, linewidth=1, color='black')\n",
    "\n",
    "plt.plot(goal_state[1], goal_state[0], 'go', markersize=15)\n",
    "\n",
    "for obstacle in obstacle_states:\n",
    "    plt.plot(obstacle[1], obstacle[0], 'ro', markersize=15)\n",
    "\n",
    "path_x = [p[1] for p in path]\n",
    "path_y = [p[0] for p in path]\n",
    "plt.plot(path_x, path_y, 'b-o', markersize=8)\n",
    "\n",
    "plt.title(\"Agent Path (DQN)\")\n",
    "plt.show()"
   ]
  },
  {
   "cell_type": "code",
   "execution_count": null,
   "metadata": {},
   "outputs": [],
   "source": []
  }
 ],
 "metadata": {
  "kernelspec": {
   "display_name": "reinforcement_env",
   "language": "python",
   "name": "python3"
  },
  "language_info": {
   "codemirror_mode": {
    "name": "ipython",
    "version": 3
   },
   "file_extension": ".py",
   "mimetype": "text/x-python",
   "name": "python",
   "nbconvert_exporter": "python",
   "pygments_lexer": "ipython3",
   "version": "3.12.0"
  }
 },
 "nbformat": 4,
 "nbformat_minor": 2
}
